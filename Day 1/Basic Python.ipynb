{
 "cells": [
  {
   "cell_type": "code",
   "execution_count": 3,
   "id": "0c31cfac-13d1-436b-85b9-ce703a0ef4ad",
   "metadata": {},
   "outputs": [],
   "source": [
    "# Make Lsit\n",
    "list1 = [ \"Anas\" , \"Mirza\" , \"Lignf\" , \"NAM\" ] \n",
    "        "
   ]
  },
  {
   "cell_type": "code",
   "execution_count": null,
   "id": "10358654-b015-43d7-99c8-683b8466335f",
   "metadata": {},
   "outputs": [
    {
     "name": "stdout",
     "output_type": "stream",
     "text": [
      "['NAM', 'Anas', 'Mirza', 'Lignf']\n"
     ]
    }
   ],
   "source": [
    "# Sort by Length\n",
    "list1.sort(key = len) \n",
    "print ( list1)"
   ]
  },
  {
   "cell_type": "code",
   "execution_count": null,
   "id": "d02dff53-1218-46d4-88ef-7001e9a23cca",
   "metadata": {},
   "outputs": [],
   "source": [
    "print (\"hello\")"
   ]
  }
 ],
 "metadata": {
  "kernelspec": {
   "display_name": "Python 3 (ipykernel)",
   "language": "python",
   "name": "python3"
  },
  "language_info": {
   "codemirror_mode": {
    "name": "ipython",
    "version": 3
   },
   "file_extension": ".py",
   "mimetype": "text/x-python",
   "name": "python",
   "nbconvert_exporter": "python",
   "pygments_lexer": "ipython3",
   "version": "3.11.7"
  },
  "widgets": {
   "application/vnd.jupyter.widget-state+json": {
    "state": {},
    "version_major": 2,
    "version_minor": 0
   }
  }
 },
 "nbformat": 4,
 "nbformat_minor": 5
}
